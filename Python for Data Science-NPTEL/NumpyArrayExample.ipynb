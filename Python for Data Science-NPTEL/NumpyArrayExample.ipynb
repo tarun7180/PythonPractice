{
 "cells": [
  {
   "cell_type": "code",
   "execution_count": 1,
   "id": "f418a2f0",
   "metadata": {},
   "outputs": [],
   "source": [
    "import numpy as np"
   ]
  },
  {
   "cell_type": "code",
   "execution_count": 8,
   "id": "f2628c82",
   "metadata": {},
   "outputs": [
    {
     "name": "stdout",
     "output_type": "stream",
     "text": [
      "[1, 2, 3, 4, 5, 6, 7, 8, 9]\n"
     ]
    }
   ],
   "source": [
    "myList = [1,2,3,4,5,6,7,8,9]\n",
    "print(myList)"
   ]
  },
  {
   "cell_type": "code",
   "execution_count": 9,
   "id": "27fe1731",
   "metadata": {},
   "outputs": [
    {
     "name": "stdout",
     "output_type": "stream",
     "text": [
      "[1 2 3 4 5 6 7 8 9]\n"
     ]
    }
   ],
   "source": [
    "#To create numpy array from python list\n",
    "myArray = np.array(myList,dtype=int)\n",
    "print(myArray)"
   ]
  },
  {
   "cell_type": "code",
   "execution_count": 11,
   "id": "53858121",
   "metadata": {},
   "outputs": [
    {
     "name": "stdout",
     "output_type": "stream",
     "text": [
      "[1 2 3 4 5 6 7 8 9]\n",
      "[[1 2 3]\n",
      " [4 5 6]\n",
      " [7 8 9]]\n"
     ]
    }
   ],
   "source": [
    "#Method to reshape the numpy array, it will not update the exiting numpy array, \n",
    "#it will create new numpy array with the new dimensions\n",
    "newArray = myArray.reshape(3,3)\n",
    "print(myArray)\n",
    "print(newArray)"
   ]
  },
  {
   "cell_type": "code",
   "execution_count": 13,
   "id": "6292b14e",
   "metadata": {},
   "outputs": [
    {
     "name": "stdout",
     "output_type": "stream",
     "text": [
      "[[1 2 3]\n",
      " [4 5 6]\n",
      " [7 8 9]]\n"
     ]
    }
   ],
   "source": [
    "#If we give -1 then it will reshape the array into square matrix\n",
    "resultArray=myArray.reshape(3,-1)\n",
    "print(resultArray)"
   ]
  },
  {
   "cell_type": "code",
   "execution_count": 14,
   "id": "8b10dc65",
   "metadata": {},
   "outputs": [
    {
     "name": "stdout",
     "output_type": "stream",
     "text": [
      "[[ 1  2  3  4  5]\n",
      " [ 2  4  6  8 10]\n",
      " [ 3  6  9 12 15]]\n"
     ]
    }
   ],
   "source": [
    "#Creating numpy array from multiple lists\n",
    "sampleList1 = [1,2,3,4,5]\n",
    "sampleList2 = [2,4,6,8,10]\n",
    "sampleList3 = [3,6,9,12,15]\n",
    "mulListArr = np.array([sampleList1,sampleList2,sampleList3])\n",
    "print(mulListArr)"
   ]
  },
  {
   "cell_type": "code",
   "execution_count": 20,
   "id": "1cfcc315",
   "metadata": {},
   "outputs": [],
   "source": [
    "sampleArray1 = np.array(sampleList1)\n",
    "sampleArray2 = np.array(sampleList2)"
   ]
  },
  {
   "cell_type": "code",
   "execution_count": 21,
   "id": "9518610d",
   "metadata": {},
   "outputs": [
    {
     "name": "stdout",
     "output_type": "stream",
     "text": [
      "[ 3  6  9 12 15]\n"
     ]
    }
   ],
   "source": [
    "# Adding the corresponding elements of numpy array,matrix addition\n",
    "print(np.add(sampleArray1,sampleArray2))"
   ]
  },
  {
   "cell_type": "code",
   "execution_count": 22,
   "id": "be389b05",
   "metadata": {},
   "outputs": [
    {
     "name": "stdout",
     "output_type": "stream",
     "text": [
      "[1 2 3 4 5]\n"
     ]
    }
   ],
   "source": [
    "# Subtraction the corresponding elements of numpy array,matrix subtraction\n",
    "print(np.subtract(sampleArray2,sampleArray1))"
   ]
  },
  {
   "cell_type": "code",
   "execution_count": 24,
   "id": "bd944865",
   "metadata": {},
   "outputs": [
    {
     "name": "stdout",
     "output_type": "stream",
     "text": [
      "[ 2  8 18 32 50]\n"
     ]
    }
   ],
   "source": [
    "#Multiplication of corresponding elements of numpy array\n",
    "print(np.multiply(sampleArray1,sampleArray2))"
   ]
  },
  {
   "cell_type": "code",
   "execution_count": 25,
   "id": "5d309de0",
   "metadata": {},
   "outputs": [
    {
     "name": "stdout",
     "output_type": "stream",
     "text": [
      "110\n"
     ]
    }
   ],
   "source": [
    "#Dot product of numpy array, matrix multiplication\n",
    "print(sampleArray1.dot(sampleArray2))"
   ]
  },
  {
   "cell_type": "code",
   "execution_count": 26,
   "id": "9baea77f",
   "metadata": {},
   "outputs": [
    {
     "name": "stdout",
     "output_type": "stream",
     "text": [
      "[2. 2. 2. 2. 2.]\n"
     ]
    }
   ],
   "source": [
    "#Divide corresponding elements of one numpy array by another array\n",
    "print(np.divide(sampleArray2,sampleArray1))"
   ]
  },
  {
   "cell_type": "code",
   "execution_count": null,
   "id": "fec850a9",
   "metadata": {},
   "outputs": [],
   "source": []
  }
 ],
 "metadata": {
  "kernelspec": {
   "display_name": "Python 3 (ipykernel)",
   "language": "python",
   "name": "python3"
  },
  "language_info": {
   "codemirror_mode": {
    "name": "ipython",
    "version": 3
   },
   "file_extension": ".py",
   "mimetype": "text/x-python",
   "name": "python",
   "nbconvert_exporter": "python",
   "pygments_lexer": "ipython3",
   "version": "3.11.5"
  }
 },
 "nbformat": 4,
 "nbformat_minor": 5
}
