{
 "cells": [
  {
   "cell_type": "code",
   "execution_count": 1,
   "id": "7ba44f3e-7e68-4a5d-8218-3c4d5e552d2c",
   "metadata": {},
   "outputs": [],
   "source": [
    "import numpy as np"
   ]
  },
  {
   "cell_type": "code",
   "execution_count": 3,
   "id": "89c830aa-b878-4f4f-abe6-d481db3e5ec2",
   "metadata": {},
   "outputs": [
    {
     "data": {
      "text/plain": [
       "1"
      ]
     },
     "execution_count": 3,
     "metadata": {},
     "output_type": "execute_result"
    }
   ],
   "source": [
    "n1 = np.array([1,2,3])\n",
    "n1.ndim"
   ]
  },
  {
   "cell_type": "code",
   "execution_count": 5,
   "id": "96981956-74cb-4ff9-9c4c-f3748cd0395b",
   "metadata": {},
   "outputs": [
    {
     "data": {
      "text/plain": [
       "2"
      ]
     },
     "execution_count": 5,
     "metadata": {},
     "output_type": "execute_result"
    }
   ],
   "source": [
    "n2 = np.array([[1,2,3],[4,5,6]])\n",
    "n2.ndim"
   ]
  },
  {
   "cell_type": "code",
   "execution_count": 6,
   "id": "c3c16905-ac52-4a2c-a0c2-fa795f233c1b",
   "metadata": {},
   "outputs": [
    {
     "data": {
      "text/plain": [
       "array([[1, 2, 3],\n",
       "       [4, 5, 6]])"
      ]
     },
     "execution_count": 6,
     "metadata": {},
     "output_type": "execute_result"
    }
   ],
   "source": [
    "n2"
   ]
  },
  {
   "cell_type": "code",
   "execution_count": 7,
   "id": "1ac542cd-ad78-44f3-9441-42138ef4bb40",
   "metadata": {},
   "outputs": [
    {
     "data": {
      "text/plain": [
       "np.int64(4)"
      ]
     },
     "execution_count": 7,
     "metadata": {},
     "output_type": "execute_result"
    }
   ],
   "source": [
    "n2[1,0]"
   ]
  },
  {
   "cell_type": "code",
   "execution_count": 8,
   "id": "00906e8d-1242-4896-97f9-f417106177eb",
   "metadata": {},
   "outputs": [],
   "source": [
    "n2[1,2] = 7"
   ]
  },
  {
   "cell_type": "code",
   "execution_count": 9,
   "id": "d05dce63-b578-4629-b3c4-d488d258eee4",
   "metadata": {},
   "outputs": [
    {
     "data": {
      "text/plain": [
       "array([[1, 2, 3],\n",
       "       [4, 5, 7]])"
      ]
     },
     "execution_count": 9,
     "metadata": {},
     "output_type": "execute_result"
    }
   ],
   "source": [
    "n2"
   ]
  },
  {
   "cell_type": "code",
   "execution_count": 11,
   "id": "7e90edbf-894e-411f-95d7-c9af595977a3",
   "metadata": {},
   "outputs": [
    {
     "data": {
      "text/plain": [
       "dtype('int64')"
      ]
     },
     "execution_count": 11,
     "metadata": {},
     "output_type": "execute_result"
    }
   ],
   "source": [
    "n2.dtype"
   ]
  },
  {
   "cell_type": "code",
   "execution_count": 12,
   "id": "8769bc54-14c0-4fd9-ad73-c7561a346819",
   "metadata": {},
   "outputs": [
    {
     "data": {
      "text/plain": [
       "8"
      ]
     },
     "execution_count": 12,
     "metadata": {},
     "output_type": "execute_result"
    }
   ],
   "source": [
    "n2.itemsize"
   ]
  },
  {
   "cell_type": "code",
   "execution_count": 13,
   "id": "aa433a6b-0e12-411e-8872-1df91241ecd3",
   "metadata": {},
   "outputs": [
    {
     "data": {
      "text/plain": [
       "6"
      ]
     },
     "execution_count": 13,
     "metadata": {},
     "output_type": "execute_result"
    }
   ],
   "source": [
    "n2.size"
   ]
  },
  {
   "cell_type": "code",
   "execution_count": 14,
   "id": "87f1b444-5aa2-41a2-8e72-55af6d879b70",
   "metadata": {},
   "outputs": [
    {
     "data": {
      "text/plain": [
       "(2, 3)"
      ]
     },
     "execution_count": 14,
     "metadata": {},
     "output_type": "execute_result"
    }
   ],
   "source": [
    "n2.shape"
   ]
  },
  {
   "cell_type": "code",
   "execution_count": 15,
   "id": "7cf952a4-87af-4bd0-996d-58363bfc47fc",
   "metadata": {},
   "outputs": [
    {
     "data": {
      "text/plain": [
       "array([[1, 2, 3],\n",
       "       [4, 5, 7]])"
      ]
     },
     "execution_count": 15,
     "metadata": {},
     "output_type": "execute_result"
    }
   ],
   "source": [
    "np.sort(n2)"
   ]
  },
  {
   "cell_type": "code",
   "execution_count": 17,
   "id": "2a12893a-3a5e-409a-b6a4-a241ac8e66ec",
   "metadata": {},
   "outputs": [
    {
     "data": {
      "text/plain": [
       "array([1, 2, 3, 4, 5, 7])"
      ]
     },
     "execution_count": 17,
     "metadata": {},
     "output_type": "execute_result"
    }
   ],
   "source": [
    "np.sort(n2,axis=None)"
   ]
  },
  {
   "cell_type": "code",
   "execution_count": 19,
   "id": "c99607e2-cf23-43e2-9b3b-30696663dc1c",
   "metadata": {},
   "outputs": [
    {
     "data": {
      "text/plain": [
       "array([[0., 0., 0.],\n",
       "       [0., 0., 0.]])"
      ]
     },
     "execution_count": 19,
     "metadata": {},
     "output_type": "execute_result"
    }
   ],
   "source": [
    "np.zeros((2,3))"
   ]
  },
  {
   "cell_type": "code",
   "execution_count": 20,
   "id": "ac744304-9e24-4774-bfd4-6dfc94ba94c0",
   "metadata": {},
   "outputs": [
    {
     "data": {
      "text/plain": [
       "array([[1., 1., 1., 1., 1.],\n",
       "       [1., 1., 1., 1., 1.],\n",
       "       [1., 1., 1., 1., 1.]])"
      ]
     },
     "execution_count": 20,
     "metadata": {},
     "output_type": "execute_result"
    }
   ],
   "source": [
    "np.ones((3,5))"
   ]
  },
  {
   "cell_type": "code",
   "execution_count": 21,
   "id": "0fac1634-0e00-455b-9177-392639f63225",
   "metadata": {},
   "outputs": [
    {
     "data": {
      "text/plain": [
       "array([50, 51, 52, 53, 54, 55, 56, 57, 58, 59, 60, 61, 62, 63, 64, 65, 66,\n",
       "       67, 68, 69])"
      ]
     },
     "execution_count": 21,
     "metadata": {},
     "output_type": "execute_result"
    }
   ],
   "source": [
    "np.arange(50,70)"
   ]
  },
  {
   "cell_type": "code",
   "execution_count": 22,
   "id": "9bb0abf0-62aa-4f2b-8065-6474be661304",
   "metadata": {},
   "outputs": [
    {
     "data": {
      "text/plain": [
       "array([50, 52, 54, 56, 58, 60, 62, 64, 66, 68])"
      ]
     },
     "execution_count": 22,
     "metadata": {},
     "output_type": "execute_result"
    }
   ],
   "source": [
    "np.arange(50,70,2)"
   ]
  },
  {
   "cell_type": "code",
   "execution_count": 23,
   "id": "2b16a1cc-e1bf-4774-9387-5a7901b933ac",
   "metadata": {},
   "outputs": [
    {
     "data": {
      "text/plain": [
       "array([50.        , 50.40816327, 50.81632653, 51.2244898 , 51.63265306,\n",
       "       52.04081633, 52.44897959, 52.85714286, 53.26530612, 53.67346939,\n",
       "       54.08163265, 54.48979592, 54.89795918, 55.30612245, 55.71428571,\n",
       "       56.12244898, 56.53061224, 56.93877551, 57.34693878, 57.75510204,\n",
       "       58.16326531, 58.57142857, 58.97959184, 59.3877551 , 59.79591837,\n",
       "       60.20408163, 60.6122449 , 61.02040816, 61.42857143, 61.83673469,\n",
       "       62.24489796, 62.65306122, 63.06122449, 63.46938776, 63.87755102,\n",
       "       64.28571429, 64.69387755, 65.10204082, 65.51020408, 65.91836735,\n",
       "       66.32653061, 66.73469388, 67.14285714, 67.55102041, 67.95918367,\n",
       "       68.36734694, 68.7755102 , 69.18367347, 69.59183673, 70.        ])"
      ]
     },
     "execution_count": 23,
     "metadata": {},
     "output_type": "execute_result"
    }
   ],
   "source": [
    "np.linspace(50,70)"
   ]
  },
  {
   "cell_type": "code",
   "execution_count": 24,
   "id": "3c360c89-d284-4e8e-9e4a-ce5746ad247e",
   "metadata": {},
   "outputs": [
    {
     "data": {
      "text/plain": [
       "array([50., 55., 60., 65., 70.])"
      ]
     },
     "execution_count": 24,
     "metadata": {},
     "output_type": "execute_result"
    }
   ],
   "source": [
    "np.linspace(50,70,5)"
   ]
  },
  {
   "cell_type": "code",
   "execution_count": 25,
   "id": "82973551-1289-4473-ba35-ce958ae4afa7",
   "metadata": {},
   "outputs": [
    {
     "data": {
      "text/plain": [
       "array([[1, 2, 3],\n",
       "       [4, 5, 7]])"
      ]
     },
     "execution_count": 25,
     "metadata": {},
     "output_type": "execute_result"
    }
   ],
   "source": [
    "n2"
   ]
  },
  {
   "cell_type": "code",
   "execution_count": 26,
   "id": "12f23880-61dd-445f-8aeb-a8fd370fe3e4",
   "metadata": {},
   "outputs": [
    {
     "data": {
      "text/plain": [
       "array([1, 2, 3, 4, 5, 7])"
      ]
     },
     "execution_count": 26,
     "metadata": {},
     "output_type": "execute_result"
    }
   ],
   "source": [
    "n2.flatten()"
   ]
  },
  {
   "cell_type": "code",
   "execution_count": 27,
   "id": "fc2866cf-d1e4-4130-b431-35de2bb8380c",
   "metadata": {},
   "outputs": [
    {
     "data": {
      "text/plain": [
       "array([[1, 2],\n",
       "       [3, 4],\n",
       "       [5, 7]])"
      ]
     },
     "execution_count": 27,
     "metadata": {},
     "output_type": "execute_result"
    }
   ],
   "source": [
    "n2.reshape(3,2)"
   ]
  },
  {
   "cell_type": "code",
   "execution_count": 28,
   "id": "336620fc-a656-4c2e-90a1-e0ce905f8a38",
   "metadata": {},
   "outputs": [
    {
     "data": {
      "text/plain": [
       "array([[1],\n",
       "       [2],\n",
       "       [3],\n",
       "       [4],\n",
       "       [5],\n",
       "       [7]])"
      ]
     },
     "execution_count": 28,
     "metadata": {},
     "output_type": "execute_result"
    }
   ],
   "source": [
    "n2.reshape(6,1)"
   ]
  },
  {
   "cell_type": "code",
   "execution_count": 29,
   "id": "fbd9bbdf-e92a-484b-a932-46a5cadb78ac",
   "metadata": {},
   "outputs": [
    {
     "data": {
      "text/plain": [
       "np.int64(1)"
      ]
     },
     "execution_count": 29,
     "metadata": {},
     "output_type": "execute_result"
    }
   ],
   "source": [
    "n2.min()"
   ]
  },
  {
   "cell_type": "code",
   "execution_count": 30,
   "id": "cb9c9a8c-6ef3-438c-81cf-8cb75b4bd70e",
   "metadata": {},
   "outputs": [
    {
     "data": {
      "text/plain": [
       "np.int64(7)"
      ]
     },
     "execution_count": 30,
     "metadata": {},
     "output_type": "execute_result"
    }
   ],
   "source": [
    "n2.max()"
   ]
  },
  {
   "cell_type": "code",
   "execution_count": 31,
   "id": "a8a586cd-f5fe-48c9-8d3d-b0f1893e8ff8",
   "metadata": {},
   "outputs": [
    {
     "data": {
      "text/plain": [
       "np.float64(1.9720265943665387)"
      ]
     },
     "execution_count": 31,
     "metadata": {},
     "output_type": "execute_result"
    }
   ],
   "source": [
    "n2.std()"
   ]
  },
  {
   "cell_type": "code",
   "execution_count": 32,
   "id": "33f19f20-1791-472a-b02e-3cbe9d2a2ff4",
   "metadata": {},
   "outputs": [
    {
     "data": {
      "text/plain": [
       "np.int64(22)"
      ]
     },
     "execution_count": 32,
     "metadata": {},
     "output_type": "execute_result"
    }
   ],
   "source": [
    "n2.sum()"
   ]
  },
  {
   "cell_type": "code",
   "execution_count": 33,
   "id": "a371212d-ccdd-46f5-945a-4d4cbdd8d203",
   "metadata": {},
   "outputs": [
    {
     "data": {
      "text/plain": [
       "array([ 5,  7, 10])"
      ]
     },
     "execution_count": 33,
     "metadata": {},
     "output_type": "execute_result"
    }
   ],
   "source": [
    "n2.sum(axis=0)"
   ]
  },
  {
   "cell_type": "code",
   "execution_count": 34,
   "id": "9291e94c-f42a-4f13-b21d-ed19e390922f",
   "metadata": {},
   "outputs": [
    {
     "data": {
      "text/plain": [
       "array([[1, 2, 3],\n",
       "       [4, 5, 7]])"
      ]
     },
     "execution_count": 34,
     "metadata": {},
     "output_type": "execute_result"
    }
   ],
   "source": [
    "n2"
   ]
  },
  {
   "cell_type": "code",
   "execution_count": 35,
   "id": "1d0575ab-8f64-43a8-bdc4-6dcecd6c7ce9",
   "metadata": {},
   "outputs": [
    {
     "data": {
      "text/plain": [
       "array([ 6, 16])"
      ]
     },
     "execution_count": 35,
     "metadata": {},
     "output_type": "execute_result"
    }
   ],
   "source": [
    "n2.sum(axis=1)"
   ]
  },
  {
   "cell_type": "code",
   "execution_count": 37,
   "id": "68240a34-3936-418c-a8e5-3c09687dabcb",
   "metadata": {},
   "outputs": [
    {
     "data": {
      "text/plain": [
       "array([[1.        , 1.41421356, 1.73205081],\n",
       "       [2.        , 2.23606798, 2.64575131]])"
      ]
     },
     "execution_count": 37,
     "metadata": {},
     "output_type": "execute_result"
    }
   ],
   "source": [
    "np.sqrt(n2)"
   ]
  },
  {
   "cell_type": "code",
   "execution_count": 39,
   "id": "dc9b668c-5edc-45d7-b910-bc0ff77e6cb9",
   "metadata": {},
   "outputs": [
    {
     "data": {
      "text/plain": [
       "array([[ 1,  4,  9],\n",
       "       [16, 25, 49]])"
      ]
     },
     "execution_count": 39,
     "metadata": {},
     "output_type": "execute_result"
    }
   ],
   "source": [
    "np.square(n2)"
   ]
  },
  {
   "cell_type": "code",
   "execution_count": 40,
   "id": "05937c17-888e-4ee5-aa07-6d592906d9cb",
   "metadata": {},
   "outputs": [
    {
     "data": {
      "text/plain": [
       "np.float64(1.9720265943665387)"
      ]
     },
     "execution_count": 40,
     "metadata": {},
     "output_type": "execute_result"
    }
   ],
   "source": [
    "np.std(n2)"
   ]
  },
  {
   "cell_type": "code",
   "execution_count": null,
   "id": "84c9307c-b5a1-444f-bc90-5f5ea01dc1db",
   "metadata": {},
   "outputs": [],
   "source": []
  }
 ],
 "metadata": {
  "kernelspec": {
   "display_name": "Python 3 (ipykernel)",
   "language": "python",
   "name": "python3"
  },
  "language_info": {
   "codemirror_mode": {
    "name": "ipython",
    "version": 3
   },
   "file_extension": ".py",
   "mimetype": "text/x-python",
   "name": "python",
   "nbconvert_exporter": "python",
   "pygments_lexer": "ipython3",
   "version": "3.10.11"
  }
 },
 "nbformat": 4,
 "nbformat_minor": 5
}
