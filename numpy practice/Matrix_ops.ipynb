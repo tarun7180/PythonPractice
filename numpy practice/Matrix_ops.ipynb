{
 "cells": [
  {
   "cell_type": "code",
   "execution_count": 1,
   "id": "5c2d426d-7420-4c38-ba63-9aba90fd489f",
   "metadata": {},
   "outputs": [],
   "source": [
    "import numpy as np"
   ]
  },
  {
   "cell_type": "code",
   "execution_count": 2,
   "id": "e42ea08c-a01a-4ae5-a38f-5d988838b6e7",
   "metadata": {},
   "outputs": [],
   "source": [
    "n1 = np.array([\n",
    "    [100,200,300],\n",
    "    [400,500,600],\n",
    "    [700,800,900]\n",
    "])\n",
    "n2 = np.array([\n",
    "    [150,250,350],\n",
    "    [450,550,650],\n",
    "    [750,850,950]\n",
    "])"
   ]
  },
  {
   "cell_type": "code",
   "execution_count": 3,
   "id": "35d9ac7e-7edb-4755-a15f-a59274bfaa82",
   "metadata": {},
   "outputs": [
    {
     "data": {
      "text/plain": [
       "array([[ 250,  450,  650],\n",
       "       [ 850, 1050, 1250],\n",
       "       [1450, 1650, 1850]])"
      ]
     },
     "execution_count": 3,
     "metadata": {},
     "output_type": "execute_result"
    }
   ],
   "source": [
    "n1 + n2"
   ]
  },
  {
   "cell_type": "code",
   "execution_count": 4,
   "id": "936c73e9-277f-4e54-b271-c43c70378cac",
   "metadata": {},
   "outputs": [
    {
     "data": {
      "text/plain": [
       "array([[50, 50, 50],\n",
       "       [50, 50, 50],\n",
       "       [50, 50, 50]])"
      ]
     },
     "execution_count": 4,
     "metadata": {},
     "output_type": "execute_result"
    }
   ],
   "source": [
    "n2 - n1"
   ]
  },
  {
   "cell_type": "code",
   "execution_count": 5,
   "id": "6e061d3c-f5ad-4c21-b430-d14d885565da",
   "metadata": {},
   "outputs": [
    {
     "data": {
      "text/plain": [
       "array([[50.        , 25.        , 16.66666667],\n",
       "       [12.5       , 10.        ,  8.33333333],\n",
       "       [ 7.14285714,  6.25      ,  5.55555556]])"
      ]
     },
     "execution_count": 5,
     "metadata": {},
     "output_type": "execute_result"
    }
   ],
   "source": [
    "(n2-n1)*100/n1"
   ]
  },
  {
   "cell_type": "code",
   "execution_count": 6,
   "id": "264632ef-f9df-4fa6-8d31-c53ace207026",
   "metadata": {},
   "outputs": [
    {
     "data": {
      "text/plain": [
       "array([[ 15000,  50000, 105000],\n",
       "       [180000, 275000, 390000],\n",
       "       [525000, 680000, 855000]])"
      ]
     },
     "execution_count": 6,
     "metadata": {},
     "output_type": "execute_result"
    }
   ],
   "source": [
    "n1 * n2"
   ]
  },
  {
   "cell_type": "code",
   "execution_count": 7,
   "id": "9d55447d-df37-4628-bf8e-7001c7cf6214",
   "metadata": {},
   "outputs": [
    {
     "data": {
      "text/plain": [
       "np.int64(4950)"
      ]
     },
     "execution_count": 7,
     "metadata": {},
     "output_type": "execute_result"
    }
   ],
   "source": [
    "np.sum(n2)"
   ]
  },
  {
   "cell_type": "code",
   "execution_count": 8,
   "id": "84fac8e9-f698-4347-a154-71be695f6ac8",
   "metadata": {},
   "outputs": [
    {
     "data": {
      "text/plain": [
       "array([1200, 3400])"
      ]
     },
     "execution_count": 8,
     "metadata": {},
     "output_type": "execute_result"
    }
   ],
   "source": [
    "n5 = np.array([\n",
    "    [100,2],\n",
    "    [300,4]\n",
    "])\n",
    "\n",
    "n6 = np.array([10,100])\n",
    "\n",
    "np.dot(n5,n6)"
   ]
  },
  {
   "cell_type": "code",
   "execution_count": 10,
   "id": "420f7bab-542c-4b19-bf56-5718cc9455bd",
   "metadata": {},
   "outputs": [
    {
     "name": "stderr",
     "output_type": "stream",
     "text": [
      "C:\\Users\\mailt\\AppData\\Local\\Temp\\ipykernel_19024\\4107387280.py:3: DeprecationWarning: Arrays of 2-dimensional vectors are deprecated. Use arrays of 3-dimensional vectors instead. (deprecated in NumPy 2.0)\n",
      "  np.cross(n7,n8)\n"
     ]
    },
    {
     "data": {
      "text/plain": [
       "array(-8)"
      ]
     },
     "execution_count": 10,
     "metadata": {},
     "output_type": "execute_result"
    }
   ],
   "source": [
    "n7 = np.array([2,4])\n",
    "n8 = np.array([6,8])\n",
    "np.cross(n7,n8)"
   ]
  },
  {
   "cell_type": "code",
   "execution_count": null,
   "id": "13b93422-a5b9-4cdc-ab77-01740bd24c6d",
   "metadata": {},
   "outputs": [],
   "source": []
  }
 ],
 "metadata": {
  "kernelspec": {
   "display_name": "Python 3 (ipykernel)",
   "language": "python",
   "name": "python3"
  },
  "language_info": {
   "codemirror_mode": {
    "name": "ipython",
    "version": 3
   },
   "file_extension": ".py",
   "mimetype": "text/x-python",
   "name": "python",
   "nbconvert_exporter": "python",
   "pygments_lexer": "ipython3",
   "version": "3.10.11"
  }
 },
 "nbformat": 4,
 "nbformat_minor": 5
}
