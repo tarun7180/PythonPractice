{
 "cells": [
  {
   "cell_type": "code",
   "execution_count": null,
   "id": "2a921796-cd14-4ddb-8c1b-b9fcc0c6d0c6",
   "metadata": {},
   "outputs": [],
   "source": [
    "help(str)"
   ]
  },
  {
   "cell_type": "code",
   "execution_count": null,
   "id": "0bb402f4-1792-4952-8786-9b8d4ec45574",
   "metadata": {},
   "outputs": [],
   "source": [
    "fruits = 10\n",
    "vegetables = 11\n",
    "statement = \"I eat \" + str(vegetables) + \" vegetables and \" + str(fruits) + \" daily\"\n",
    "print(statement)"
   ]
  },
  {
   "cell_type": "code",
   "execution_count": 15,
   "id": "a0f7c98e-b1de-4664-99a5-a3d144260863",
   "metadata": {},
   "outputs": [
    {
     "name": "stdout",
     "output_type": "stream",
     "text": [
      "Himalayas\n",
      "mountain range\n",
      "The Himalayas on the planet.\n",
      "The Himalayas on the planet.\n"
     ]
    }
   ],
   "source": [
    "input_string = \"The Himalayas are one of the youngest mountain ranges on the planet.\"\n",
    "string1 = input_string[4:13]\n",
    "print(string1)\n",
    "print(input_string[-30:-16])\n",
    "string2 = input_string[:13] + input_string[53:]\n",
    "print(string2)\n",
    "string3 = f\"{input_string[:13]}\" + f\"{input_string[53:]}\"\n",
    "print(string3)"
   ]
  },
  {
   "cell_type": "code",
   "execution_count": null,
   "id": "46fd446e-82cb-4742-a9e7-651830a4162a",
   "metadata": {},
   "outputs": [],
   "source": []
  }
 ],
 "metadata": {
  "kernelspec": {
   "display_name": "Python 3 (ipykernel)",
   "language": "python",
   "name": "python3"
  },
  "language_info": {
   "codemirror_mode": {
    "name": "ipython",
    "version": 3
   },
   "file_extension": ".py",
   "mimetype": "text/x-python",
   "name": "python",
   "nbconvert_exporter": "python",
   "pygments_lexer": "ipython3",
   "version": "3.10.11"
  }
 },
 "nbformat": 4,
 "nbformat_minor": 5
}
